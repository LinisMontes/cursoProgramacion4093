{
  "nbformat": 4,
  "nbformat_minor": 0,
  "metadata": {
    "colab": {
      "provenance": [],
      "history_visible": true,
      "toc_visible": true
    },
    "kernelspec": {
      "name": "python3",
      "display_name": "Python 3"
    },
    "language_info": {
      "name": "python"
    }
  },
  "cells": [
    {
      "cell_type": "code",
      "execution_count": null,
      "metadata": {
        "colab": {
          "base_uri": "https://localhost:8080/"
        },
        "id": "F6g7kRwGB1gJ",
        "outputId": "81e8ba96-9567-449b-f7cc-fe53afeae0ef"
      },
      "outputs": [
        {
          "output_type": "stream",
          "name": "stdout",
          "text": [
            "Hola Mundo\n"
          ]
        }
      ],
      "source": [
        "print(\"Hola Mundo\")\n"
      ]
    },
    {
      "cell_type": "code",
      "source": [
        "nombreP =\"Lina Montes\"\n",
        "print(nombreP)\n",
        "edad = 24\n",
        "print(edad)"
      ],
      "metadata": {
        "colab": {
          "base_uri": "https://localhost:8080/"
        },
        "id": "HkELz6qsLFsd",
        "outputId": "044a4e4d-09d4-4a55-9d03-7227c4abcb2c"
      },
      "execution_count": null,
      "outputs": [
        {
          "output_type": "stream",
          "name": "stdout",
          "text": [
            "Lina Montes\n",
            "24\n"
          ]
        }
      ]
    },
    {
      "cell_type": "code",
      "source": [
        "edad = 21\n",
        "print(edad)\n",
        "edad = \"Diana\"\n",
        "print(edad)"
      ],
      "metadata": {
        "colab": {
          "base_uri": "https://localhost:8080/"
        },
        "id": "E0uZp8oaMeTJ",
        "outputId": "f8168ec6-55c6-4423-e9a3-f91ed2465365"
      },
      "execution_count": null,
      "outputs": [
        {
          "output_type": "stream",
          "name": "stdout",
          "text": [
            "21\n",
            "Diana\n"
          ]
        }
      ]
    },
    {
      "cell_type": "code",
      "source": [
        "valor = True \n",
        "print(valor)"
      ],
      "metadata": {
        "colab": {
          "base_uri": "https://localhost:8080/"
        },
        "id": "ls0jmmZGNFMZ",
        "outputId": "1a8d5fb9-612c-422e-be23-424ccd3c8ff5"
      },
      "execution_count": null,
      "outputs": [
        {
          "output_type": "stream",
          "name": "stdout",
          "text": [
            "True\n"
          ]
        }
      ]
    },
    {
      "cell_type": "code",
      "source": [
        "nombre_Per = \"Lina\"\n",
        "apellido = \"Montes\"\n",
        "print(nombre_Per +\" \"+apellido)"
      ],
      "metadata": {
        "colab": {
          "base_uri": "https://localhost:8080/"
        },
        "id": "pSlK7ttNNYVy",
        "outputId": "f7b8cf1a-584f-4f70-bbe5-7eaf867b6ab4"
      },
      "execution_count": null,
      "outputs": [
        {
          "output_type": "stream",
          "name": "stdout",
          "text": [
            "Lina Montes\n"
          ]
        }
      ]
    },
    {
      "cell_type": "markdown",
      "source": [
        "**Comentarios**"
      ],
      "metadata": {
        "id": "bXpgDsKgOJVh"
      }
    },
    {
      "cell_type": "markdown",
      "source": [
        "# Nueva sección"
      ],
      "metadata": {
        "id": "NSbxzM0zld-X"
      }
    },
    {
      "cell_type": "markdown",
      "source": [
        "1. Documentacion\n",
        "2. Pruebas"
      ],
      "metadata": {
        "id": "QVg0zp2oOYMV"
      }
    },
    {
      "cell_type": "code",
      "source": [
        "# variable para almacenar el telefono de una persona\n",
        "telefono = 12122131231\n",
        "# variable para la profesion\n",
        "profesion = \"Medico\"\n",
        "# visualizo por pantalla al contenido de la variable telefono\n",
        "print(telefono)\n",
        "# visualizo la variable profesion por pantalla\n",
        "print(profesion)"
      ],
      "metadata": {
        "colab": {
          "base_uri": "https://localhost:8080/"
        },
        "id": "jDPQ_YdSOdvE",
        "outputId": "7cfbf58f-f991-473a-b601-566d97222b39"
      },
      "execution_count": null,
      "outputs": [
        {
          "output_type": "stream",
          "name": "stdout",
          "text": [
            "12122131231\n",
            "Medico\n"
          ]
        }
      ]
    },
    {
      "cell_type": "code",
      "source": [
        "nombre_perso = input(\"Digite su nombre: \")\n",
        "print = (nombre_perso)"
      ],
      "metadata": {
        "colab": {
          "base_uri": "https://localhost:8080/"
        },
        "id": "zv9Zg0jIQN3T",
        "outputId": "c10b9131-ce79-492c-ac7f-fa8de7e2354c"
      },
      "execution_count": null,
      "outputs": [
        {
          "name": "stdout",
          "output_type": "stream",
          "text": [
            "Digite su nombre: Lina\n"
          ]
        }
      ]
    },
    {
      "cell_type": "markdown",
      "source": [
        "# Nueva sección"
      ],
      "metadata": {
        "id": "BCDAHP5aRqOJ"
      }
    },
    {
      "cell_type": "markdown",
      "source": [],
      "metadata": {
        "id": "ppXIz9XIOYFk"
      }
    }
  ]
}