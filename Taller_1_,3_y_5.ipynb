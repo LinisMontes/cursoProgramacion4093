{
  "nbformat": 4,
  "nbformat_minor": 0,
  "metadata": {
    "colab": {
      "provenance": []
    },
    "kernelspec": {
      "name": "python3",
      "display_name": "Python 3"
    },
    "language_info": {
      "name": "python"
    }
  },
  "cells": [
    {
      "cell_type": "code",
      "execution_count": null,
      "metadata": {
        "id": "lyfp23-aKwz3"
      },
      "outputs": [],
      "source": [
        "No_identificacion = input(\"Digite su numero de identificacion: \")\n",
        "Nombres = input(\"Digite su/s nombre/s: \")\n",
        "Apellidos = input(\"Digite su/s apellido/s: \")\n",
        "Direccion = input(\"Digite su direccion: \")\n",
        "Telefono = input(\"Digite su telefono: \")\n",
        "Edad = int(input(\"Digite su edad: \"))\n",
        "Estado_civil = input(\"Digite su estado civil: \")\n",
        "Numero_hijos = int(input(\"Digite su numero de hijos: \"))\n",
        "Estatura = input(\"Digite su estatura en centimetros: \")\n",
        "Fecha_contratacion = input(\"Digite su fecha de contratatacion (Dia/Mes/Año): \")\n",
        "Sueldo_basico = int(input(\"Digite su sueldo basico: \"))\n",
        "Dias_laborados = int(input(\"Digite sus dias laborados: \"))\n",
        "print(No_identificacion, Nombres, Apellidos, Direccion, Telefono, Edad, Estado_civil, Numero_hijos, Estatura, Fecha_contratacion, Sueldo_basico,Dias_laborados)"
      ]
    },
    {
      "cell_type": "code",
      "source": [
        "Edad = int(input(\"Digite su edad: \"))\n",
        "Estado_civil = input(\"Digite su estado civil: \")\n",
        "Numero_hijos = int(input(\"Digite su numero de hijos: \"))\n",
        "Sueldo_basico = int(input(\"Digite su sueldo basico: \"))\n",
        "Dias_laborados = int(input(\"Digite sus dias laborados: \"))\n",
        "\n",
        "#Si el empleado es mayor de 55 años disfrutará de un bono de prepensión correspondiente al 5% de su sueldo básico.\n",
        "if Edad >= 55:\n",
        "  bono = Sueldo_basico * .5\n",
        "  print(\"Gano un bono de: \", bono)\n",
        "\n",
        "#Si el empleado es casado y tiene hijos se le otorgará un paseo cada diciembre\n",
        "if Estado_civil == \"casado\" and Numero_hijos > 0:\n",
        "  print(\"Se gano un paseo en diciembre\")\n",
        "else:\n",
        "  print(\"No se gano el paseo\")\n",
        "\n",
        "#Si el sueldo básico está entre 1000000 y 1500000 tendrá una comisión del 2% sobre el valor del sueldo; Si el sueldo \n",
        "#básico está entre 1500001 y 2000000 tendrá una comisión del 5% sobre el valor del sueldo; para todos los demás casos no habrá comisión.\n",
        "if Sueldo_basico == 1000000 and 1500000:\n",
        "  print(\"Gano una comision del 2%\")\n",
        "elif Sueldo_basico == 1500000 and 2000000:\n",
        "  print(\"Gano una comision del 5%\")\n",
        "else:\n",
        "  print(\"No gano comision\")\n",
        "\n",
        "#Si el empleado trabajó más de 20 días al mes y su sueldo es menor a 1000000 tendrá derecho a un bono de alimentación.\n",
        "if Dias_laborados > 20 and Sueldo_basico < 1000000:\n",
        "  print(\"Gano un bono de alimentacion\")\n",
        "else:\n",
        "  print(\"No gano ningun bono\")"
      ],
      "metadata": {
        "id": "w8Hsjv2-2ywE"
      },
      "execution_count": null,
      "outputs": []
    },
    {
      "cell_type": "markdown",
      "source": [
        "CICLOS Y FUNCIONES"
      ],
      "metadata": {
        "id": "hIXXxCUmQUQd"
      }
    },
    {
      "cell_type": "code",
      "source": [
        "def dias():\n",
        "  res = num1 * num2\n",
        "  print(f\"El total de su sueldo y sus dias laborados es= {res}\")\n",
        "\n",
        "num1 = int(input(\"Digite su sueldo: \"))\n",
        "num2 = int(input(\"Digite la cantidad de dias\"))\n",
        "dias()\n"
      ],
      "metadata": {
        "id": "C47eQxeW4EHc",
        "colab": {
          "base_uri": "https://localhost:8080/"
        },
        "outputId": "1b343f4f-cc14-4d61-e018-9a31deb9cee5"
      },
      "execution_count": 4,
      "outputs": [
        {
          "output_type": "stream",
          "name": "stdout",
          "text": [
            "Digite su sueldo: 200000\n",
            "Digite la cantidad de dias30\n",
            "El total de su sueldo y sus dias laborados es= 6000000\n"
          ]
        }
      ]
    },
    {
      "cell_type": "code",
      "source": [
        "def age(edad):\n",
        "  if edad >= 18:\n",
        "    print(\"Eres apto para obtener la cedula\")\n",
        "  else:\n",
        "    print(\"Eres apto para obtener la Tarjeta de Identidad\")\n",
        "\n",
        "resp = \"si\"\n",
        "while resp == \"si\" or resp == \"s\":\n",
        "  edad = float(input(\"Digite su edad: \"))\n",
        "  age(edad)\n",
        "  resp = input(\"¿Desea digitar otra edad? \")"
      ],
      "metadata": {
        "colab": {
          "base_uri": "https://localhost:8080/"
        },
        "id": "MtsVyDPDXh_-",
        "outputId": "71d48d7d-ba35-4436-fa5f-cab539607f8e"
      },
      "execution_count": 6,
      "outputs": [
        {
          "name": "stdout",
          "output_type": "stream",
          "text": [
            "Digite su edad: 4\n",
            "Eres apto para obtener la Tarjeta de Identidad\n",
            "¿Desea digitar otra edad? g\n"
          ]
        }
      ]
    }
  ]
}